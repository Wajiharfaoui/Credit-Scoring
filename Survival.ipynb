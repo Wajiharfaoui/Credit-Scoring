{
 "cells": [
  {
   "cell_type": "code",
   "execution_count": null,
   "metadata": {},
   "outputs": [],
   "source": [
    "import pandas as pd \n",
    "import numpy as np \n",
    "from collections import defaultdict\n",
    "import plotly.graph_objects as go\n",
    "import seaborn as sns\n",
    "import matplotlib.pyplot as plt\n",
    "from sklearn.linear_model import LogisticRegression\n",
    "from sklearn.ensemble import RandomForestClassifier\n",
    "from sklearn.metrics import *\n",
    "from sklearn.model_selection import GridSearchCV, train_test_split\n",
    "from sklearn.impute import SimpleImputer\n",
    "from Binning import WOE\n",
    "from sklearn.preprocessing import OneHotEncoder\n",
    "from xarray import *\n",
    "from sklearn.ensemble import RandomForestClassifier, AdaBoostClassifier\n",
    "from lightgbm import LGBMClassifier\n",
    "import scorecardpy as sc\n",
    "from lifelines import KaplanMeierFitter\n",
    "from lifelines import CoxTimeVaryingFitter"
   ]
  },
  {
   "cell_type": "markdown",
   "metadata": {},
   "source": [
    "# Survival Analysis \n",
    "The data exploration shows that around 30% of the clients having mortgage defaulted while 53% of them already made payement and the remaining 17% still did not pay and did not default either.  \n",
    "\n",
    "In order to get insights about differences about customers' behaviours based on their balances, I will convert our episodic data into a static one by grouping using the ID and aggregating by the most recent default satatus.  \n",
    "\n",
    "Then, I create two cohorts of customers; one with low outstanding balance at\n",
    "origination time, we define low as the amounts lower than the amount in the 30% quantile, and the second with Average/High outstanding balance at origination time.  \n",
    "Once the split is done, we do **Logrank** testing by setting no difference between groups as null hypothesis. The testing returns a significant *p-value* which is lower than 0.05, what tells that the null hypothesis is not correct and there is rather a difference between these two cohorts.  \n",
    "\n",
    "I further check this by ploting the survival curves of both groups. From the curves, it is evident that the customers, who have average to high balance, have better probability survival as compared to the customers who have low balance until the 35th months where the survival probability of average/low balance clients drastically decreases to get under the curve of the low balance clients. To confirm this, I checked the survival probabality in the 25th month to find that the probability of survival for **Average/high balance 0.9845 > low balance 0.9435**, while in the 50th month the probability of survival for **Average/high balance 0.4735 > low balance 0.5763**.  \n",
    "\n",
    "Next, I will fit a **Cox Proportional Hazard Model** while assuming time variation, using this list of features *[\"default_time\", \"hpi_time\", \"gdp_time\", \"uer_time\",\"balance_time\",\"interest_rate_time\", \"FICO_orig_time\", \"LTV_time\"]*, in order explore how these covariates impact the survival probability function.  \n",
    "\n",
    "The summary statistics below that we get from the fitted model, indicates the significance of the covariates in predicting the default risk. Where all the covariates are significant.  \n",
    "\n",
    "When digging deeper into the effect of these covariates, I found that the most impacting variable is **interest_rate_time** since an additional interest rate overtime increases the probability to default by 18.744%, followed by **uer_time** that indicates that an increase in the unemployement rate will raise the probability of defaulting by 14.958%."
   ]
  },
  {
   "cell_type": "code",
   "execution_count": null,
   "metadata": {},
   "outputs": [],
   "source": [
    "Mortgage = pd.read_csv(Data + \"/mortgage.csv\")"
   ]
  },
  {
   "cell_type": "code",
   "execution_count": null,
   "metadata": {},
   "outputs": [
    {
     "data": {
      "text/html": [
       "<div>\n",
       "<style scoped>\n",
       "    .dataframe tbody tr th:only-of-type {\n",
       "        vertical-align: middle;\n",
       "    }\n",
       "\n",
       "    .dataframe tbody tr th {\n",
       "        vertical-align: top;\n",
       "    }\n",
       "\n",
       "    .dataframe thead th {\n",
       "        text-align: right;\n",
       "    }\n",
       "</style>\n",
       "<table border=\"1\" class=\"dataframe\">\n",
       "  <thead>\n",
       "    <tr style=\"text-align: right;\">\n",
       "      <th></th>\n",
       "      <th>id</th>\n",
       "      <th>time</th>\n",
       "      <th>orig_time</th>\n",
       "      <th>first_time</th>\n",
       "      <th>mat_time</th>\n",
       "      <th>balance_time</th>\n",
       "      <th>LTV_time</th>\n",
       "      <th>interest_rate_time</th>\n",
       "      <th>hpi_time</th>\n",
       "      <th>gdp_time</th>\n",
       "      <th>...</th>\n",
       "      <th>REtype_SF_orig_time</th>\n",
       "      <th>investor_orig_time</th>\n",
       "      <th>balance_orig_time</th>\n",
       "      <th>FICO_orig_time</th>\n",
       "      <th>LTV_orig_time</th>\n",
       "      <th>Interest_Rate_orig_time</th>\n",
       "      <th>hpi_orig_time</th>\n",
       "      <th>default_time</th>\n",
       "      <th>payoff_time</th>\n",
       "      <th>status_time</th>\n",
       "    </tr>\n",
       "  </thead>\n",
       "  <tbody>\n",
       "    <tr>\n",
       "      <th>0</th>\n",
       "      <td>1</td>\n",
       "      <td>25</td>\n",
       "      <td>-7</td>\n",
       "      <td>25</td>\n",
       "      <td>113</td>\n",
       "      <td>41303.42</td>\n",
       "      <td>24.498336</td>\n",
       "      <td>9.2</td>\n",
       "      <td>226.29</td>\n",
       "      <td>2.899137</td>\n",
       "      <td>...</td>\n",
       "      <td>1</td>\n",
       "      <td>0</td>\n",
       "      <td>45000.0</td>\n",
       "      <td>715</td>\n",
       "      <td>69.4</td>\n",
       "      <td>9.2</td>\n",
       "      <td>87.03</td>\n",
       "      <td>0</td>\n",
       "      <td>0</td>\n",
       "      <td>0</td>\n",
       "    </tr>\n",
       "    <tr>\n",
       "      <th>1</th>\n",
       "      <td>1</td>\n",
       "      <td>26</td>\n",
       "      <td>-7</td>\n",
       "      <td>25</td>\n",
       "      <td>113</td>\n",
       "      <td>41061.95</td>\n",
       "      <td>24.483867</td>\n",
       "      <td>9.2</td>\n",
       "      <td>225.10</td>\n",
       "      <td>2.151365</td>\n",
       "      <td>...</td>\n",
       "      <td>1</td>\n",
       "      <td>0</td>\n",
       "      <td>45000.0</td>\n",
       "      <td>715</td>\n",
       "      <td>69.4</td>\n",
       "      <td>9.2</td>\n",
       "      <td>87.03</td>\n",
       "      <td>0</td>\n",
       "      <td>0</td>\n",
       "      <td>0</td>\n",
       "    </tr>\n",
       "    <tr>\n",
       "      <th>2</th>\n",
       "      <td>1</td>\n",
       "      <td>27</td>\n",
       "      <td>-7</td>\n",
       "      <td>25</td>\n",
       "      <td>113</td>\n",
       "      <td>40804.42</td>\n",
       "      <td>24.626795</td>\n",
       "      <td>9.2</td>\n",
       "      <td>222.39</td>\n",
       "      <td>2.361722</td>\n",
       "      <td>...</td>\n",
       "      <td>1</td>\n",
       "      <td>0</td>\n",
       "      <td>45000.0</td>\n",
       "      <td>715</td>\n",
       "      <td>69.4</td>\n",
       "      <td>9.2</td>\n",
       "      <td>87.03</td>\n",
       "      <td>0</td>\n",
       "      <td>0</td>\n",
       "      <td>0</td>\n",
       "    </tr>\n",
       "    <tr>\n",
       "      <th>3</th>\n",
       "      <td>1</td>\n",
       "      <td>28</td>\n",
       "      <td>-7</td>\n",
       "      <td>25</td>\n",
       "      <td>113</td>\n",
       "      <td>40483.89</td>\n",
       "      <td>24.735883</td>\n",
       "      <td>9.2</td>\n",
       "      <td>219.67</td>\n",
       "      <td>1.229172</td>\n",
       "      <td>...</td>\n",
       "      <td>1</td>\n",
       "      <td>0</td>\n",
       "      <td>45000.0</td>\n",
       "      <td>715</td>\n",
       "      <td>69.4</td>\n",
       "      <td>9.2</td>\n",
       "      <td>87.03</td>\n",
       "      <td>0</td>\n",
       "      <td>0</td>\n",
       "      <td>0</td>\n",
       "    </tr>\n",
       "    <tr>\n",
       "      <th>4</th>\n",
       "      <td>1</td>\n",
       "      <td>29</td>\n",
       "      <td>-7</td>\n",
       "      <td>25</td>\n",
       "      <td>113</td>\n",
       "      <td>40367.06</td>\n",
       "      <td>24.925476</td>\n",
       "      <td>9.2</td>\n",
       "      <td>217.37</td>\n",
       "      <td>1.692969</td>\n",
       "      <td>...</td>\n",
       "      <td>1</td>\n",
       "      <td>0</td>\n",
       "      <td>45000.0</td>\n",
       "      <td>715</td>\n",
       "      <td>69.4</td>\n",
       "      <td>9.2</td>\n",
       "      <td>87.03</td>\n",
       "      <td>0</td>\n",
       "      <td>0</td>\n",
       "      <td>0</td>\n",
       "    </tr>\n",
       "  </tbody>\n",
       "</table>\n",
       "<p>5 rows × 23 columns</p>\n",
       "</div>"
      ],
      "text/plain": [
       "   id  time  orig_time  first_time  mat_time  balance_time   LTV_time  \\\n",
       "0   1    25         -7          25       113      41303.42  24.498336   \n",
       "1   1    26         -7          25       113      41061.95  24.483867   \n",
       "2   1    27         -7          25       113      40804.42  24.626795   \n",
       "3   1    28         -7          25       113      40483.89  24.735883   \n",
       "4   1    29         -7          25       113      40367.06  24.925476   \n",
       "\n",
       "   interest_rate_time  hpi_time  gdp_time  ...  REtype_SF_orig_time  \\\n",
       "0                 9.2    226.29  2.899137  ...                    1   \n",
       "1                 9.2    225.10  2.151365  ...                    1   \n",
       "2                 9.2    222.39  2.361722  ...                    1   \n",
       "3                 9.2    219.67  1.229172  ...                    1   \n",
       "4                 9.2    217.37  1.692969  ...                    1   \n",
       "\n",
       "   investor_orig_time  balance_orig_time  FICO_orig_time  LTV_orig_time  \\\n",
       "0                   0            45000.0             715           69.4   \n",
       "1                   0            45000.0             715           69.4   \n",
       "2                   0            45000.0             715           69.4   \n",
       "3                   0            45000.0             715           69.4   \n",
       "4                   0            45000.0             715           69.4   \n",
       "\n",
       "   Interest_Rate_orig_time  hpi_orig_time  default_time  payoff_time  \\\n",
       "0                      9.2          87.03             0            0   \n",
       "1                      9.2          87.03             0            0   \n",
       "2                      9.2          87.03             0            0   \n",
       "3                      9.2          87.03             0            0   \n",
       "4                      9.2          87.03             0            0   \n",
       "\n",
       "   status_time  \n",
       "0            0  \n",
       "1            0  \n",
       "2            0  \n",
       "3            0  \n",
       "4            0  \n",
       "\n",
       "[5 rows x 23 columns]"
      ]
     },
     "metadata": {},
     "output_type": "display_data"
    }
   ],
   "source": [
    "Mortgage.head()"
   ]
  },
  {
   "cell_type": "code",
   "execution_count": null,
   "metadata": {},
   "outputs": [],
   "source": [
    "Mortgage = Mortgage.dropna()"
   ]
  },
  {
   "cell_type": "code",
   "execution_count": null,
   "metadata": {},
   "outputs": [
    {
     "data": {
      "text/plain": [
       "<matplotlib.legend.Legend at 0x2a520f48af0>"
      ]
     },
     "metadata": {},
     "output_type": "display_data"
    },
    {
     "data": {
      "image/png": "[encoded data removed]",
      "text/plain": [
       "<Figure size 360x576 with 1 Axes>"
      ]
     },
     "metadata": {},
     "output_type": "display_data"
    }
   ],
   "source": [
    "Mortgage.groupby(\"id\").agg({\"default_time\":np.max})[\"default_time\"].value_counts().plot.pie(autopct='%.2f%%', figsize=(5,8))\n",
    "plt.legend([\"default\"],loc=\"lower right\")"
   ]
  },
  {
   "cell_type": "code",
   "execution_count": null,
   "metadata": {},
   "outputs": [
    {
     "data": {
      "text/plain": [
       "<matplotlib.legend.Legend at 0x2a520682cd0>"
      ]
     },
     "metadata": {},
     "output_type": "display_data"
    },
    {
     "data": {
      "image/png": "[encoded data removed]",
      "text/plain": [
       "<Figure size 360x576 with 1 Axes>"
      ]
     },
     "metadata": {},
     "output_type": "display_data"
    }
   ],
   "source": [
    "Mortgage.groupby(\"id\").agg({\"status_time\":np.max})[\"status_time\"].value_counts().plot.pie(autopct='%.2f%%', figsize=(5,8))\n",
    "plt.legend([\"payoff\",\"default\",\"non-default/nonpayoff\"],loc=\"lower right\")"
   ]
  },
  {
   "cell_type": "code",
   "execution_count": null,
   "metadata": {},
   "outputs": [
    {
     "data": {
      "text/plain": [
       "0    34833\n",
       "1    15149\n",
       "Name: default_time, dtype: int64"
      ]
     },
     "metadata": {},
     "output_type": "display_data"
    }
   ],
   "source": [
    "Mortgage.groupby(\"id\").agg({\"default_time\":np.max})[\"default_time\"].value_counts()"
   ]
  },
  {
   "cell_type": "code",
   "execution_count": null,
   "metadata": {},
   "outputs": [],
   "source": [
    "mort_static = Mortgage.groupby(\"id\").agg(np.max).reset_index()"
   ]
  },
  {
   "cell_type": "code",
   "execution_count": null,
   "metadata": {},
   "outputs": [],
   "source": [
    "df1 = mort_static.loc[mort_static[\"balance_orig_time\"] >= mort_static[\"balance_orig_time\"].quantile(.3),:]\n",
    "df2 = mort_static.loc[mort_static[\"balance_orig_time\"] < mort_static[\"balance_orig_time\"].quantile(.3),:]"
   ]
  },
  {
   "cell_type": "code",
   "execution_count": null,
   "metadata": {},
   "outputs": [
    {
     "data": {
      "text/html": [
       "<div>\n",
       "<style scoped>\n",
       "    .dataframe tbody tr th:only-of-type {\n",
       "        vertical-align: middle;\n",
       "    }\n",
       "\n",
       "    .dataframe tbody tr th {\n",
       "        vertical-align: top;\n",
       "    }\n",
       "\n",
       "    .dataframe thead th {\n",
       "        text-align: right;\n",
       "    }\n",
       "</style>\n",
       "<table border=\"1\" class=\"dataframe\">\n",
       "  <thead>\n",
       "    <tr style=\"text-align: right;\">\n",
       "      <th></th>\n",
       "      <th>test_statistic</th>\n",
       "      <th>p</th>\n",
       "      <th>-log2(p)</th>\n",
       "    </tr>\n",
       "  </thead>\n",
       "  <tbody>\n",
       "    <tr>\n",
       "      <th>0</th>\n",
       "      <td>58.647544</td>\n",
       "      <td>1.886034e-14</td>\n",
       "      <td>45.591637</td>\n",
       "    </tr>\n",
       "  </tbody>\n",
       "</table>\n",
       "</div>"
      ],
      "text/plain": [
       "   test_statistic             p   -log2(p)\n",
       "0       58.647544  1.886034e-14  45.591637"
      ]
     },
     "metadata": {},
     "output_type": "display_data"
    }
   ],
   "source": [
    "from lifelines.statistics import logrank_test\n",
    "\n",
    "# Null-Hypothesis: No difference between the two groups\n",
    "res = logrank_test(df1['time'], df2['time'], event_observed_A=df1['default_time'],event_observed_B=df2['default_time'])\n",
    "\n",
    "# We can reject the Null-Hypothesis (p < 0.05)\n",
    "res.summary "
   ]
  },
  {
   "cell_type": "code",
   "execution_count": null,
   "metadata": {},
   "outputs": [
    {
     "data": {
      "image/png": "[encoded data removed]",
      "text/plain": [
       "<Figure size 504x432 with 2 Axes>"
      ]
     },
     "metadata": {},
     "output_type": "display_data"
    }
   ],
   "source": [
    "# Compare two groups\n",
    "\n",
    "kmf1 = KaplanMeierFitter()\n",
    "kmf2 = KaplanMeierFitter()\n",
    "\n",
    "fig, ax = plt.subplots(1,1 , figsize=(7,6))\n",
    "\n",
    "# fit subset gender = male\n",
    "ax = kmf1.fit(df1['time'], df1['default_time'], label='Average/high balance').plot_survival_function(ax=ax)\n",
    "\n",
    "# fit subset gender = female\n",
    "ax = kmf2.fit(df2['time'], df2['default_time'], label='Low balance').plot_survival_function(ax=ax)\n",
    "\n",
    "from lifelines.plotting import add_at_risk_counts\n",
    "add_at_risk_counts(kmf1, kmf2, ax=ax)\n",
    "plt.tight_layout()"
   ]
  },
  {
   "cell_type": "code",
   "execution_count": null,
   "metadata": {},
   "outputs": [
    {
     "name": "stdout",
     "output_type": "stream",
     "text": [
      "probability of survival at time 25\n",
      "Average balance 0.9845\n",
      "low balance 0.9435\n",
      "probability of survival at time 50\n",
      "Average balance 0.4735\n",
      "low balance 0.5763\n"
     ]
    }
   ],
   "source": [
    "# check survival probability after 25 months and 50 months\n",
    "for i in (25,50): \n",
    "    print(\"probability of survival at time\", i)\n",
    "    print(\"Average balance\", round(kmf1.predict(i),4))\n",
    "    print(\"low balance\", round(kmf2.predict(i),4))"
   ]
  },
  {
   "cell_type": "code",
   "execution_count": null,
   "metadata": {},
   "outputs": [],
   "source": [
    "mortgage_sub = pd.merge(Mortgage[[\"id\",\"default_time\", \"hpi_time\", \"gdp_time\", \"uer_time\", \"balance_time\",\n",
    "\"interest_rate_time\", \"FICO_orig_time\", \"LTV_time\"]], mort_static[[\"id\", \"time\"]]\\\n",
    ".rename(columns={\"time\":\"time_end\"}), on=\"id\", how=\"inner\").reset_index(drop=True) \n",
    "\n",
    "mortgage_sub[\"first_time\"] = 0"
   ]
  },
  {
   "cell_type": "code",
   "execution_count": null,
   "metadata": {},
   "outputs": [
    {
     "name": "stdout",
     "output_type": "stream",
     "text": [
      "Iteration 9: norm_delta = 0.00000, step_size = 1.00000, ll = -193453.17044, newton_decrement = 0.00000, seconds_since_start = 52.6Convergence completed after 9 iterations.\n"
     ]
    },
    {
     "data": {
      "text/plain": [
       "<bound method CoxTimeVaryingFitter.print_summary of <lifelines.CoxTimeVaryingFitter: fitted with 622219 periods, 49982 subjects, 15153 events>>"
      ]
     },
     "metadata": {},
     "output_type": "display_data"
    }
   ],
   "source": [
    "cph = CoxTimeVaryingFitter()\n",
    "\n",
    "cph.fit(mortgage_sub, id_col=\"id\", event_col=\"default_time\", start_col=\"first_time\", stop_col=\"time_end\", show_progress=True)"
   ]
  },
  {
   "cell_type": "code",
   "execution_count": null,
   "metadata": {},
   "outputs": [
    {
     "data": {
      "text/html": [
       "<div>\n",
       "<style scoped>\n",
       "    .dataframe tbody tr th:only-of-type {\n",
       "        vertical-align: middle;\n",
       "    }\n",
       "\n",
       "    .dataframe tbody tr th {\n",
       "        vertical-align: top;\n",
       "    }\n",
       "\n",
       "    .dataframe thead th {\n",
       "        text-align: right;\n",
       "    }\n",
       "</style>\n",
       "<table border=\"1\" class=\"dataframe\">\n",
       "  <thead>\n",
       "    <tr style=\"text-align: right;\">\n",
       "      <th></th>\n",
       "      <th>coef</th>\n",
       "      <th>exp(coef)</th>\n",
       "      <th>se(coef)</th>\n",
       "      <th>coef lower 95%</th>\n",
       "      <th>coef upper 95%</th>\n",
       "      <th>exp(coef) lower 95%</th>\n",
       "      <th>exp(coef) upper 95%</th>\n",
       "      <th>cmp to</th>\n",
       "      <th>z</th>\n",
       "      <th>p</th>\n",
       "      <th>-log2(p)</th>\n",
       "    </tr>\n",
       "    <tr>\n",
       "      <th>covariate</th>\n",
       "      <th></th>\n",
       "      <th></th>\n",
       "      <th></th>\n",
       "      <th></th>\n",
       "      <th></th>\n",
       "      <th></th>\n",
       "      <th></th>\n",
       "      <th></th>\n",
       "      <th></th>\n",
       "      <th></th>\n",
       "      <th></th>\n",
       "    </tr>\n",
       "  </thead>\n",
       "  <tbody>\n",
       "    <tr>\n",
       "      <th>hpi_time</th>\n",
       "      <td>-7.740875e-03</td>\n",
       "      <td>0.992289</td>\n",
       "      <td>6.880560e-04</td>\n",
       "      <td>-9.089441e-03</td>\n",
       "      <td>-6.392310e-03</td>\n",
       "      <td>0.990952</td>\n",
       "      <td>0.993628</td>\n",
       "      <td>0.0</td>\n",
       "      <td>-11.250356</td>\n",
       "      <td>2.306594e-29</td>\n",
       "      <td>95.130151</td>\n",
       "    </tr>\n",
       "    <tr>\n",
       "      <th>gdp_time</th>\n",
       "      <td>-7.844862e-02</td>\n",
       "      <td>0.924550</td>\n",
       "      <td>4.221043e-03</td>\n",
       "      <td>-8.672171e-02</td>\n",
       "      <td>-7.017552e-02</td>\n",
       "      <td>0.916932</td>\n",
       "      <td>0.932230</td>\n",
       "      <td>0.0</td>\n",
       "      <td>-18.585125</td>\n",
       "      <td>4.240095e-77</td>\n",
       "      <td>253.704367</td>\n",
       "    </tr>\n",
       "    <tr>\n",
       "      <th>uer_time</th>\n",
       "      <td>-1.620233e-01</td>\n",
       "      <td>0.850421</td>\n",
       "      <td>8.072698e-03</td>\n",
       "      <td>-1.778455e-01</td>\n",
       "      <td>-1.462011e-01</td>\n",
       "      <td>0.837072</td>\n",
       "      <td>0.863984</td>\n",
       "      <td>0.0</td>\n",
       "      <td>-20.070522</td>\n",
       "      <td>1.335949e-89</td>\n",
       "      <td>295.233735</td>\n",
       "    </tr>\n",
       "    <tr>\n",
       "      <th>balance_time</th>\n",
       "      <td>5.797074e-07</td>\n",
       "      <td>1.000001</td>\n",
       "      <td>2.129064e-08</td>\n",
       "      <td>5.379785e-07</td>\n",
       "      <td>6.214363e-07</td>\n",
       "      <td>1.000001</td>\n",
       "      <td>1.000001</td>\n",
       "      <td>0.0</td>\n",
       "      <td>27.228279</td>\n",
       "      <td>3.005373e-163</td>\n",
       "      <td>539.886736</td>\n",
       "    </tr>\n",
       "    <tr>\n",
       "      <th>interest_rate_time</th>\n",
       "      <td>1.718005e-01</td>\n",
       "      <td>1.187441</td>\n",
       "      <td>3.444280e-03</td>\n",
       "      <td>1.650498e-01</td>\n",
       "      <td>1.785511e-01</td>\n",
       "      <td>1.179452</td>\n",
       "      <td>1.195484</td>\n",
       "      <td>0.0</td>\n",
       "      <td>49.879945</td>\n",
       "      <td>0.000000e+00</td>\n",
       "      <td>inf</td>\n",
       "    </tr>\n",
       "    <tr>\n",
       "      <th>FICO_orig_time</th>\n",
       "      <td>-4.473182e-03</td>\n",
       "      <td>0.995537</td>\n",
       "      <td>1.211391e-04</td>\n",
       "      <td>-4.710611e-03</td>\n",
       "      <td>-4.235754e-03</td>\n",
       "      <td>0.995300</td>\n",
       "      <td>0.995773</td>\n",
       "      <td>0.0</td>\n",
       "      <td>-36.925990</td>\n",
       "      <td>1.769228e-298</td>\n",
       "      <td>989.111452</td>\n",
       "    </tr>\n",
       "    <tr>\n",
       "      <th>LTV_time</th>\n",
       "      <td>8.250427e-03</td>\n",
       "      <td>1.008285</td>\n",
       "      <td>1.351084e-04</td>\n",
       "      <td>7.985619e-03</td>\n",
       "      <td>8.515234e-03</td>\n",
       "      <td>1.008018</td>\n",
       "      <td>1.008552</td>\n",
       "      <td>0.0</td>\n",
       "      <td>61.065258</td>\n",
       "      <td>0.000000e+00</td>\n",
       "      <td>inf</td>\n",
       "    </tr>\n",
       "  </tbody>\n",
       "</table>\n",
       "</div>"
      ],
      "text/plain": [
       "                            coef  exp(coef)      se(coef)  coef lower 95%  \\\n",
       "covariate                                                                   \n",
       "hpi_time           -7.740875e-03   0.992289  6.880560e-04   -9.089441e-03   \n",
       "gdp_time           -7.844862e-02   0.924550  4.221043e-03   -8.672171e-02   \n",
       "uer_time           -1.620233e-01   0.850421  8.072698e-03   -1.778455e-01   \n",
       "balance_time        5.797074e-07   1.000001  2.129064e-08    5.379785e-07   \n",
       "interest_rate_time  1.718005e-01   1.187441  3.444280e-03    1.650498e-01   \n",
       "FICO_orig_time     -4.473182e-03   0.995537  1.211391e-04   -4.710611e-03   \n",
       "LTV_time            8.250427e-03   1.008285  1.351084e-04    7.985619e-03   \n",
       "\n",
       "                    coef upper 95%  exp(coef) lower 95%  exp(coef) upper 95%  \\\n",
       "covariate                                                                      \n",
       "hpi_time             -6.392310e-03             0.990952             0.993628   \n",
       "gdp_time             -7.017552e-02             0.916932             0.932230   \n",
       "uer_time             -1.462011e-01             0.837072             0.863984   \n",
       "balance_time          6.214363e-07             1.000001             1.000001   \n",
       "interest_rate_time    1.785511e-01             1.179452             1.195484   \n",
       "FICO_orig_time       -4.235754e-03             0.995300             0.995773   \n",
       "LTV_time              8.515234e-03             1.008018             1.008552   \n",
       "\n",
       "                    cmp to          z              p    -log2(p)  \n",
       "covariate                                                         \n",
       "hpi_time               0.0 -11.250356   2.306594e-29   95.130151  \n",
       "gdp_time               0.0 -18.585125   4.240095e-77  253.704367  \n",
       "uer_time               0.0 -20.070522   1.335949e-89  295.233735  \n",
       "balance_time           0.0  27.228279  3.005373e-163  539.886736  \n",
       "interest_rate_time     0.0  49.879945   0.000000e+00         inf  \n",
       "FICO_orig_time         0.0 -36.925990  1.769228e-298  989.111452  \n",
       "LTV_time               0.0  61.065258   0.000000e+00         inf  "
      ]
     },
     "metadata": {},
     "output_type": "display_data"
    }
   ],
   "source": [
    "cph.summary"
   ]
  },
  {
   "cell_type": "code",
   "execution_count": null,
   "metadata": {},
   "outputs": [
    {
     "name": "stdout",
     "output_type": "stream",
     "text": [
      "\n",
      " An additional hpi_time increases the probability to default by 0.771%\n",
      "\n",
      " An additional gdp_time increases the probability to default by 7.545%\n",
      "\n",
      " An additional uer_time increases the probability to default by 14.958%\n",
      "\n",
      " An additional balance_time increases the probability to default by 0.000%\n",
      "\n",
      " An additional interest_rate_time increases the probability to default by 18.744%\n",
      "\n",
      " An additional FICO_orig_time increases the probability to default by 0.446%\n",
      "\n",
      " An additional LTV_time increases the probability to default by 0.828%\n"
     ]
    }
   ],
   "source": [
    "for i,j in zip(range(0,7),cph.summary.index):\n",
    "    print('\\n An additional',j,  'increases the probability to default by {:.3f}%'.format( abs(cph.summary.iloc[i][1] - 1)*100))"
   ]
  },
  {
   "cell_type": "markdown",
   "metadata": {},
   "source": [
    "## References\n",
    "\n",
    "- https://medium.com/towards-data-science/survival-analysis-intuition-implementation-in-python-504fde4fcf8e  \n",
    "- https://scorto.com/credit-scoring-article/  \n",
    "- https://towardsdatascience.com/survival-analysis-intuition-implementation-in-python-504fde4fcf8e  \n",
    "- https://www.theanalysisfactor.com/interpreting-regression-coefficients/  \n",
    "- Credit Scoring course materials "
   ]
  }
 ],
 "metadata": {
  "language_info": {
   "name": "python"
  },
  "orig_nbformat": 4
 },
 "nbformat": 4,
 "nbformat_minor": 2
}
